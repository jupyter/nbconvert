{
 "cells": [
  {
   "cell_type": "markdown",
   "id": "902a3483",
   "metadata": {},
   "source": [
    "## Math Symbol\n",
    "\n",
    "$$x^0 \\ne 1$$\n",
    "\n",
    "This is a definition \n",
    "\n",
    "$$x^0 \\equiv 1$$\n",
    "\n",
    "But it could also be \n",
    "\n",
    "$$x^0 \\equiv 0$$"
   ]
  },
  {
   "cell_type": "markdown",
   "id": "d7c929b0-9fc8-4e78-b479-c640e9856083",
   "metadata": {},
   "source": [
    "## Physics\n",
    "$$T = 100 \\degree C$$\n",
    "\n",
    "where\\\n",
    "$T \\equiv$ Boiling Point of Water at $P = 1atm$"
   ]
  },
  {
   "cell_type": "markdown",
   "id": "62ae52bc",
   "metadata": {},
   "source": [
    "## Astronomy\n",
    "\n",
    "| Cosmological Body | Symbol      |\n",
    "|-------------------|-------------|\n",
    "| Sun               | $\\astrosun$ |\n",
    "| Earth             | $\\earth$    |\n",
    "| Mars              | $\\mars$     |\n",
    "| Jupiter           | $\\jupiter$  |"
   ]
  },
  {
   "cell_type": "markdown",
   "id": "bd31eb9f-2c94-4dd5-85bd-e0d50ebd5807",
   "metadata": {},
   "source": [
    "## Chemistry\n",
    "\n",
    "*Methane Combustion*\n",
    "\n",
    "$$\\ce{CH4 + 2O2 -> CO2 + 2H2O}$$"
   ]
  }
 ],
 "metadata": {
  "kernelspec": {
   "display_name": "Python 3 (ipykernel)",
   "language": "python",
   "name": "python3"
  },
  "language_info": {
   "codemirror_mode": {
    "name": "ipython",
    "version": 3
   },
   "file_extension": ".py",
   "mimetype": "text/x-python",
   "name": "python",
   "nbconvert_exporter": "python",
   "pygments_lexer": "ipython3",
   "version": "3.11.2"
  },
  "name": "notebook6_physics_chemistry.ipynb"
 },
 "nbformat": 4,
 "nbformat_minor": 5
}
