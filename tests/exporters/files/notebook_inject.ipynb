{
 "cells": [
  {
   "cell_type": "code",
   "execution_count": null,
   "id": "79aede83-fba6-4715-bce6-9f3926b128a2",
   "metadata": {
    "tags": [
     "FOO\"><script>alert('cell_tag')</script><div \""
    ]
   },
   "outputs": [],
   "source": []
  },
  {
   "cell_type": "raw",
   "id": "372c2bf1",
   "metadata": {},
   "source": [
    "Payload in raw cell <script>alert('raw cell')</script>"
   ]
  },
  {
   "cell_type": "markdown",
   "id": "2d42de4a",
   "metadata": {},
   "source": [
    "<script>alert('markdown cell')</script>"
   ]
  },
  {
   "cell_type": "code",
   "execution_count": null,
   "id": "b72e53fa",
   "metadata": {},
   "outputs": [
    {
     "data": {
      "image/svg+xml": [
       "<script>alert('image/svg+xml output')</script>"
      ]
     },
     "execution_count": null,
     "metadata": {},
     "output_type": "execute_result"
    }
   ],
   "source": []
  },
  {
   "cell_type": "code",
   "execution_count": null,
   "id": "b72e63fa",
   "metadata": {},
   "outputs": [
    {
     "data": {
      "image/png": ""
     },
     "execution_count": null,
     "metadata": {
      "filenames": {
       "image/png": "\"><script>alert('png filenames')</script>"
      }
     },
     "output_type": "execute_result"
    }
   ],
   "source": []
  },
  {
   "cell_type": "code",
   "execution_count": null,
   "id": "b72e63f3",
   "metadata": {},
   "outputs": [
    {
     "data": {
      "image/jpeg": ""
     },
     "execution_count": null,
     "metadata": {
      "filenames": {
       "image/jpeg": "\"><script>alert('jpg filenames')</script>"
      }
     },
     "output_type": "execute_result"
    }
   ],
   "source": []
  },
  {
   "cell_type": "code",
   "execution_count": null,
   "id": "b72e635a",
   "metadata": {},
   "outputs": [
    {
     "data": {
      "image/png": "\"><script>alert('image/png output')</script>"
     },
     "execution_count": null,
     "metadata": {},
     "output_type": "execute_result"
    }
   ],
   "source": []
  },
  {
   "cell_type": "code",
   "execution_count": null,
   "id": "p72e635a",
   "metadata": {},
   "outputs": [
    {
     "data": {
      "image/jpeg": "\"><script>alert('image/jpeg output')</script>"
     },
     "execution_count": null,
     "metadata": {},
     "output_type": "execute_result"
    }
   ],
   "source": []
  },
  {
   "cell_type": "code",
   "execution_count": null,
   "id": "d72e635a",
   "metadata": {},
   "outputs": [
    {
     "data": {
      "image/png": "abcd"
     },
     "execution_count": null,
     "metadata": {
      "width": "><script>alert('output.metadata.width png injection')</script>"
     },
     "output_type": "execute_result"
    }
   ],
   "source": []
  },
  {
   "cell_type": "code",
   "execution_count": null,
   "id": "d72e095a",
   "metadata": {},
   "outputs": [
    {
     "data": {
      "image/png": "abcd"
     },
     "execution_count": null,
     "metadata": {
      "width": [
       "><script>alert('output.metadata.width png injection')</script>"
      ]
     },
     "output_type": "execute_result"
    }
   ],
   "source": []
  },
  {
   "cell_type": "code",
   "execution_count": null,
   "id": "ae4f574d",
   "metadata": {},
   "outputs": [
    {
     "data": {
      "image/png": "abcd"
     },
     "execution_count": null,
     "metadata": {
      "height": "><script>alert('output.metadata.height png injection')</script>"
     },
     "output_type": "execute_result"
    }
   ],
   "source": []
  },
  {
   "cell_type": "code",
   "execution_count": null,
   "id": "w72e635a",
   "metadata": {},
   "outputs": [
    {
     "data": {
      "application/vnd.jupyter.widget-view+json": {
       "foo": "\"</script><script>alert('output.data.application/vnd.jupyter.widget-view+json injection')//",
       "model_id": "wid1"
      }
     },
     "execution_count": null,
     "metadata": {},
     "output_type": "execute_result"
    }
   ],
   "source": []
  },
  {
   "cell_type": "code",
   "execution_count": 5,
   "id": "2616e107",
   "metadata": {},
   "outputs": [
    {
     "data": {
      "text/html": [
       "<script>alert('text/html output')</script>"
      ]
     },
     "execution_count": 5,
     "metadata": {},
     "output_type": "execute_result"
    }
   ],
   "source": [
    "import os\n",
    "\n",
    "os.system(\"touch /tmp/pwned\")"
   ]
  },
  {
   "cell_type": "code",
   "execution_count": 5,
   "id": "3616e107",
   "metadata": {},
   "outputs": [
    {
     "data": {
      "text/markdown": [
       "<script>alert('text/markdown output')</script>"
      ]
     },
     "execution_count": 5,
     "metadata": {},
     "output_type": "execute_result"
    }
   ],
   "source": [
    "import os\n",
    "\n",
    "os.system(\"touch /tmp/pwned\")"
   ]
  },
  {
   "cell_type": "code",
   "execution_count": 5,
   "id": "4616e107",
   "metadata": {},
   "outputs": [
    {
     "data": {
      "application/javascript": [
       "alert('application/javascript output')"
      ]
     },
     "execution_count": 5,
     "metadata": {},
     "output_type": "execute_result"
    }
   ],
   "source": [
    "import os\n",
    "\n",
    "os.system(\"touch /tmp/pwned\")"
   ]
  }
 ],
 "metadata": {
  "kernelspec": {
   "display_name": "Python 3 (ipykernel)",
   "language": "python",
   "name": "python3"
  },
  "language_info": {
   "codemirror_mode": {
    "name": "ipython",
    "version": 3
   },
   "file_extension": ".py",
   "mimetype": "text/x-python",
   "name": "python",
   "nbconvert_exporter": "python",
   "pygments_lexer": "ipython3",
   "version": "3.12.5"
  },
  "title": "TITLE</title><script>alert('title')</script>",
  "widgets": {
   "application/vnd.jupyter.widget-state+json": {
    "foo": "pwntester</script><script>alert('widgets');//",
    "state": {
     "wid1": {}
    }
   }
  }
 },
 "nbformat": 4,
 "nbformat_minor": 5
}
